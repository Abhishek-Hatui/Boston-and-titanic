{
 "cells": [
  {
   "cell_type": "code",
   "execution_count": 1,
   "id": "ace9bb77",
   "metadata": {},
   "outputs": [],
   "source": [
    "import numpy as np # linear algebra\n",
    "import pandas as pd\n",
    "import seaborn as sns\n",
    "import matplotlib.pyplot as plt"
   ]
  },
  {
   "cell_type": "code",
   "execution_count": 2,
   "id": "b4023ce6",
   "metadata": {},
   "outputs": [],
   "source": [
    "df = pd.read_json('whatscooking.json')"
   ]
  },
  {
   "cell_type": "code",
   "execution_count": 3,
   "id": "ce9cd894",
   "metadata": {},
   "outputs": [
    {
     "data": {
      "text/html": [
       "<div>\n",
       "<style scoped>\n",
       "    .dataframe tbody tr th:only-of-type {\n",
       "        vertical-align: middle;\n",
       "    }\n",
       "\n",
       "    .dataframe tbody tr th {\n",
       "        vertical-align: top;\n",
       "    }\n",
       "\n",
       "    .dataframe thead th {\n",
       "        text-align: right;\n",
       "    }\n",
       "</style>\n",
       "<table border=\"1\" class=\"dataframe\">\n",
       "  <thead>\n",
       "    <tr style=\"text-align: right;\">\n",
       "      <th></th>\n",
       "      <th>id</th>\n",
       "      <th>cuisine</th>\n",
       "      <th>ingredients</th>\n",
       "    </tr>\n",
       "  </thead>\n",
       "  <tbody>\n",
       "    <tr>\n",
       "      <th>0</th>\n",
       "      <td>10259</td>\n",
       "      <td>greek</td>\n",
       "      <td>[romaine lettuce, black olives, grape tomatoes...</td>\n",
       "    </tr>\n",
       "    <tr>\n",
       "      <th>1</th>\n",
       "      <td>25693</td>\n",
       "      <td>southern_us</td>\n",
       "      <td>[plain flour, ground pepper, salt, tomatoes, g...</td>\n",
       "    </tr>\n",
       "    <tr>\n",
       "      <th>2</th>\n",
       "      <td>20130</td>\n",
       "      <td>filipino</td>\n",
       "      <td>[eggs, pepper, salt, mayonaise, cooking oil, g...</td>\n",
       "    </tr>\n",
       "    <tr>\n",
       "      <th>3</th>\n",
       "      <td>22213</td>\n",
       "      <td>indian</td>\n",
       "      <td>[water, vegetable oil, wheat, salt]</td>\n",
       "    </tr>\n",
       "    <tr>\n",
       "      <th>4</th>\n",
       "      <td>13162</td>\n",
       "      <td>indian</td>\n",
       "      <td>[black pepper, shallots, cornflour, cayenne pe...</td>\n",
       "    </tr>\n",
       "    <tr>\n",
       "      <th>5</th>\n",
       "      <td>6602</td>\n",
       "      <td>jamaican</td>\n",
       "      <td>[plain flour, sugar, butter, eggs, fresh ginge...</td>\n",
       "    </tr>\n",
       "    <tr>\n",
       "      <th>6</th>\n",
       "      <td>42779</td>\n",
       "      <td>spanish</td>\n",
       "      <td>[olive oil, salt, medium shrimp, pepper, garli...</td>\n",
       "    </tr>\n",
       "    <tr>\n",
       "      <th>7</th>\n",
       "      <td>3735</td>\n",
       "      <td>italian</td>\n",
       "      <td>[sugar, pistachio nuts, white almond bark, flo...</td>\n",
       "    </tr>\n",
       "    <tr>\n",
       "      <th>8</th>\n",
       "      <td>16903</td>\n",
       "      <td>mexican</td>\n",
       "      <td>[olive oil, purple onion, fresh pineapple, por...</td>\n",
       "    </tr>\n",
       "    <tr>\n",
       "      <th>9</th>\n",
       "      <td>12734</td>\n",
       "      <td>italian</td>\n",
       "      <td>[chopped tomatoes, fresh basil, garlic, extra-...</td>\n",
       "    </tr>\n",
       "  </tbody>\n",
       "</table>\n",
       "</div>"
      ],
      "text/plain": [
       "      id      cuisine                                        ingredients\n",
       "0  10259        greek  [romaine lettuce, black olives, grape tomatoes...\n",
       "1  25693  southern_us  [plain flour, ground pepper, salt, tomatoes, g...\n",
       "2  20130     filipino  [eggs, pepper, salt, mayonaise, cooking oil, g...\n",
       "3  22213       indian                [water, vegetable oil, wheat, salt]\n",
       "4  13162       indian  [black pepper, shallots, cornflour, cayenne pe...\n",
       "5   6602     jamaican  [plain flour, sugar, butter, eggs, fresh ginge...\n",
       "6  42779      spanish  [olive oil, salt, medium shrimp, pepper, garli...\n",
       "7   3735      italian  [sugar, pistachio nuts, white almond bark, flo...\n",
       "8  16903      mexican  [olive oil, purple onion, fresh pineapple, por...\n",
       "9  12734      italian  [chopped tomatoes, fresh basil, garlic, extra-..."
      ]
     },
     "execution_count": 3,
     "metadata": {},
     "output_type": "execute_result"
    }
   ],
   "source": [
    "df.head(10)"
   ]
  },
  {
   "cell_type": "code",
   "execution_count": 4,
   "id": "b6732632",
   "metadata": {},
   "outputs": [
    {
     "data": {
      "text/plain": [
       "id             0\n",
       "cuisine        0\n",
       "ingredients    0\n",
       "dtype: int64"
      ]
     },
     "execution_count": 4,
     "metadata": {},
     "output_type": "execute_result"
    }
   ],
   "source": [
    "df.isnull().sum()"
   ]
  },
  {
   "cell_type": "code",
   "execution_count": 7,
   "id": "dfe96bad",
   "metadata": {},
   "outputs": [
    {
     "data": {
      "text/plain": [
       "20"
      ]
     },
     "execution_count": 7,
     "metadata": {},
     "output_type": "execute_result"
    }
   ],
   "source": [
    "df.cuisine.nunique()"
   ]
  },
  {
   "cell_type": "code",
   "execution_count": 8,
   "id": "6e7f2f63",
   "metadata": {},
   "outputs": [
    {
     "data": {
      "text/plain": [
       "array(['greek', 'southern_us', 'filipino', 'indian', 'jamaican',\n",
       "       'spanish', 'italian', 'mexican', 'chinese', 'british', 'thai',\n",
       "       'vietnamese', 'cajun_creole', 'brazilian', 'french', 'japanese',\n",
       "       'irish', 'korean', 'moroccan', 'russian'], dtype=object)"
      ]
     },
     "execution_count": 8,
     "metadata": {},
     "output_type": "execute_result"
    }
   ],
   "source": [
    "df.cuisine.unique()"
   ]
  },
  {
   "cell_type": "code",
   "execution_count": 10,
   "id": "bbc73a7a",
   "metadata": {},
   "outputs": [
    {
     "data": {
      "text/plain": [
       "italian         7838\n",
       "mexican         6438\n",
       "southern_us     4320\n",
       "indian          3003\n",
       "chinese         2673\n",
       "french          2646\n",
       "cajun_creole    1546\n",
       "thai            1539\n",
       "japanese        1423\n",
       "greek           1175\n",
       "spanish          989\n",
       "korean           830\n",
       "vietnamese       825\n",
       "moroccan         821\n",
       "british          804\n",
       "filipino         755\n",
       "irish            667\n",
       "jamaican         526\n",
       "russian          489\n",
       "brazilian        467\n",
       "Name: cuisine, dtype: int64"
      ]
     },
     "execution_count": 10,
     "metadata": {},
     "output_type": "execute_result"
    }
   ],
   "source": [
    "df['cuisine'].value_counts()"
   ]
  },
  {
   "cell_type": "code",
   "execution_count": 11,
   "id": "ccf13a11",
   "metadata": {},
   "outputs": [],
   "source": [
    "df['cuisine'] = df['cuisine'].map({'italian':1,\n",
    "                       'mexican':2,\n",
    "                       'southern_us':3,\n",
    "                       'indian':4,\n",
    "                       'chinese':5,\n",
    "                       'french':6,\n",
    "                       'cajun_creole':7,\n",
    "                       'thai':8,\n",
    "                       'japanese':9,\n",
    "                       'greek':10,\n",
    "                       'spanish':11,\n",
    "                       'korean':12,\n",
    "                       'vietnamese':13,\n",
    "                       'moroccan':14,\n",
    "                       'british':15,\n",
    "                       'filipino':16,\n",
    "                       'irish':17,\n",
    "                       'jamaican':18,\n",
    "                       'russian':19,\n",
    "                       'brazilian':20\n",
    "})"
   ]
  },
  {
   "cell_type": "code",
   "execution_count": 13,
   "id": "a2b5a3d0",
   "metadata": {},
   "outputs": [
    {
     "data": {
      "text/plain": [
       "0        [romaine lettuce, black olives, grape tomatoes...\n",
       "1        [plain flour, ground pepper, salt, tomatoes, g...\n",
       "2        [eggs, pepper, salt, mayonaise, cooking oil, g...\n",
       "3                      [water, vegetable oil, wheat, salt]\n",
       "4        [black pepper, shallots, cornflour, cayenne pe...\n",
       "                               ...                        \n",
       "39769    [light brown sugar, granulated sugar, butter, ...\n",
       "39770    [KRAFT Zesty Italian Dressing, purple onion, b...\n",
       "39771    [eggs, citrus fruit, raisins, sourdough starte...\n",
       "39772    [boneless chicken skinless thigh, minced garli...\n",
       "39773    [green chile, jalapeno chilies, onions, ground...\n",
       "Name: ingredients, Length: 39774, dtype: object"
      ]
     },
     "execution_count": 13,
     "metadata": {},
     "output_type": "execute_result"
    }
   ],
   "source": [
    "X = df.iloc[:,-1]\n",
    "y = df['cuisine']\n",
    "X"
   ]
  },
  {
   "cell_type": "code",
   "execution_count": 14,
   "id": "92d0b014",
   "metadata": {},
   "outputs": [
    {
     "data": {
      "text/plain": [
       "0        10\n",
       "1         3\n",
       "2        16\n",
       "3         4\n",
       "4         4\n",
       "         ..\n",
       "39769    17\n",
       "39770     1\n",
       "39771    17\n",
       "39772     5\n",
       "39773     2\n",
       "Name: cuisine, Length: 39774, dtype: int64"
      ]
     },
     "execution_count": 14,
     "metadata": {},
     "output_type": "execute_result"
    }
   ],
   "source": [
    "y"
   ]
  },
  {
   "cell_type": "code",
   "execution_count": 15,
   "id": "0114aa5b",
   "metadata": {},
   "outputs": [],
   "source": [
    "from sklearn.model_selection import train_test_split\n",
    "X_train,X_test,y_train,y_test = train_test_split(X,y,test_size=0.2,random_state=1)"
   ]
  },
  {
   "cell_type": "code",
   "execution_count": 17,
   "id": "13be757d",
   "metadata": {},
   "outputs": [],
   "source": [
    "X_train = pd.DataFrame(X_train)\n",
    "X_test = pd.DataFrame(X_test)"
   ]
  },
  {
   "cell_type": "code",
   "execution_count": 18,
   "id": "74eff718",
   "metadata": {},
   "outputs": [
    {
     "data": {
      "text/html": [
       "<div>\n",
       "<style scoped>\n",
       "    .dataframe tbody tr th:only-of-type {\n",
       "        vertical-align: middle;\n",
       "    }\n",
       "\n",
       "    .dataframe tbody tr th {\n",
       "        vertical-align: top;\n",
       "    }\n",
       "\n",
       "    .dataframe thead th {\n",
       "        text-align: right;\n",
       "    }\n",
       "</style>\n",
       "<table border=\"1\" class=\"dataframe\">\n",
       "  <thead>\n",
       "    <tr style=\"text-align: right;\">\n",
       "      <th></th>\n",
       "      <th>ingredients</th>\n",
       "    </tr>\n",
       "  </thead>\n",
       "  <tbody>\n",
       "    <tr>\n",
       "      <th>31255</th>\n",
       "      <td>[yellow onion, hot water, ground turmeric, fre...</td>\n",
       "    </tr>\n",
       "    <tr>\n",
       "      <th>32399</th>\n",
       "      <td>[lime juice, zucchini, chili powder, salt, dri...</td>\n",
       "    </tr>\n",
       "    <tr>\n",
       "      <th>34614</th>\n",
       "      <td>[fresh ginger, cauliflower florets, lemon juic...</td>\n",
       "    </tr>\n",
       "    <tr>\n",
       "      <th>22301</th>\n",
       "      <td>[fish sauce, pepper, garlic, calamansi, broth,...</td>\n",
       "    </tr>\n",
       "    <tr>\n",
       "      <th>4688</th>\n",
       "      <td>[water, salt, celery, onions, chicken stock, v...</td>\n",
       "    </tr>\n",
       "    <tr>\n",
       "      <th>...</th>\n",
       "      <td>...</td>\n",
       "    </tr>\n",
       "    <tr>\n",
       "      <th>7813</th>\n",
       "      <td>[orange juice concentrate, garlic cloves, fres...</td>\n",
       "    </tr>\n",
       "    <tr>\n",
       "      <th>32511</th>\n",
       "      <td>[grated parmesan cheese, fresh basil leaves, e...</td>\n",
       "    </tr>\n",
       "    <tr>\n",
       "      <th>5192</th>\n",
       "      <td>[basil leaves, olive oil, extra-virgin olive o...</td>\n",
       "    </tr>\n",
       "    <tr>\n",
       "      <th>12172</th>\n",
       "      <td>[powdered sugar, large egg yolks, salt, heavy ...</td>\n",
       "    </tr>\n",
       "    <tr>\n",
       "      <th>33003</th>\n",
       "      <td>[soy sauce, black beans, green onions, garlic,...</td>\n",
       "    </tr>\n",
       "  </tbody>\n",
       "</table>\n",
       "<p>31819 rows × 1 columns</p>\n",
       "</div>"
      ],
      "text/plain": [
       "                                             ingredients\n",
       "31255  [yellow onion, hot water, ground turmeric, fre...\n",
       "32399  [lime juice, zucchini, chili powder, salt, dri...\n",
       "34614  [fresh ginger, cauliflower florets, lemon juic...\n",
       "22301  [fish sauce, pepper, garlic, calamansi, broth,...\n",
       "4688   [water, salt, celery, onions, chicken stock, v...\n",
       "...                                                  ...\n",
       "7813   [orange juice concentrate, garlic cloves, fres...\n",
       "32511  [grated parmesan cheese, fresh basil leaves, e...\n",
       "5192   [basil leaves, olive oil, extra-virgin olive o...\n",
       "12172  [powdered sugar, large egg yolks, salt, heavy ...\n",
       "33003  [soy sauce, black beans, green onions, garlic,...\n",
       "\n",
       "[31819 rows x 1 columns]"
      ]
     },
     "execution_count": 18,
     "metadata": {},
     "output_type": "execute_result"
    }
   ],
   "source": [
    "X_train"
   ]
  },
  {
   "cell_type": "code",
   "execution_count": 19,
   "id": "330a1295",
   "metadata": {},
   "outputs": [
    {
     "data": {
      "text/html": [
       "<div>\n",
       "<style scoped>\n",
       "    .dataframe tbody tr th:only-of-type {\n",
       "        vertical-align: middle;\n",
       "    }\n",
       "\n",
       "    .dataframe tbody tr th {\n",
       "        vertical-align: top;\n",
       "    }\n",
       "\n",
       "    .dataframe thead th {\n",
       "        text-align: right;\n",
       "    }\n",
       "</style>\n",
       "<table border=\"1\" class=\"dataframe\">\n",
       "  <thead>\n",
       "    <tr style=\"text-align: right;\">\n",
       "      <th></th>\n",
       "      <th>ingredients</th>\n",
       "    </tr>\n",
       "  </thead>\n",
       "  <tbody>\n",
       "    <tr>\n",
       "      <th>25674</th>\n",
       "      <td>[water, yoghurt, peanut oil, ground cumin, gro...</td>\n",
       "    </tr>\n",
       "    <tr>\n",
       "      <th>3666</th>\n",
       "      <td>[lemon zest, whipping cream, yellow corn meal,...</td>\n",
       "    </tr>\n",
       "    <tr>\n",
       "      <th>27481</th>\n",
       "      <td>[salad dressing, chuck roast, garlic, ground b...</td>\n",
       "    </tr>\n",
       "    <tr>\n",
       "      <th>36750</th>\n",
       "      <td>[sesame seeds, worcestershire sauce, cucumber,...</td>\n",
       "    </tr>\n",
       "    <tr>\n",
       "      <th>31926</th>\n",
       "      <td>[bay leaves, cayenne pepper, ground cloves, ve...</td>\n",
       "    </tr>\n",
       "    <tr>\n",
       "      <th>...</th>\n",
       "      <td>...</td>\n",
       "    </tr>\n",
       "    <tr>\n",
       "      <th>23536</th>\n",
       "      <td>[shredded cheddar cheese, ricotta cheese, eggs...</td>\n",
       "    </tr>\n",
       "    <tr>\n",
       "      <th>30857</th>\n",
       "      <td>[cajun seasoning, onions, water, hot Italian s...</td>\n",
       "    </tr>\n",
       "    <tr>\n",
       "      <th>36586</th>\n",
       "      <td>[eggplant, large garlic cloves, veal shanks, l...</td>\n",
       "    </tr>\n",
       "    <tr>\n",
       "      <th>17770</th>\n",
       "      <td>[ground pepper, cilantro, scallions, seedless ...</td>\n",
       "    </tr>\n",
       "    <tr>\n",
       "      <th>36850</th>\n",
       "      <td>[eggs, self rising flour, margarine, light bro...</td>\n",
       "    </tr>\n",
       "  </tbody>\n",
       "</table>\n",
       "<p>7955 rows × 1 columns</p>\n",
       "</div>"
      ],
      "text/plain": [
       "                                             ingredients\n",
       "25674  [water, yoghurt, peanut oil, ground cumin, gro...\n",
       "3666   [lemon zest, whipping cream, yellow corn meal,...\n",
       "27481  [salad dressing, chuck roast, garlic, ground b...\n",
       "36750  [sesame seeds, worcestershire sauce, cucumber,...\n",
       "31926  [bay leaves, cayenne pepper, ground cloves, ve...\n",
       "...                                                  ...\n",
       "23536  [shredded cheddar cheese, ricotta cheese, eggs...\n",
       "30857  [cajun seasoning, onions, water, hot Italian s...\n",
       "36586  [eggplant, large garlic cloves, veal shanks, l...\n",
       "17770  [ground pepper, cilantro, scallions, seedless ...\n",
       "36850  [eggs, self rising flour, margarine, light bro...\n",
       "\n",
       "[7955 rows x 1 columns]"
      ]
     },
     "execution_count": 19,
     "metadata": {},
     "output_type": "execute_result"
    }
   ],
   "source": [
    "X_test"
   ]
  },
  {
   "cell_type": "code",
   "execution_count": 21,
   "id": "e4dade7d",
   "metadata": {},
   "outputs": [],
   "source": [
    "X_train['ingredients'] = X_train['ingredients'].apply(lambda x:  ' '.join(x))\n",
    "X_test['ingredients'] = X_test['ingredients'].apply(lambda x:  ' '.join(x))"
   ]
  },
  {
   "cell_type": "code",
   "execution_count": 26,
   "id": "5d35eec4",
   "metadata": {},
   "outputs": [
    {
     "data": {
      "text/plain": [
       "25674    water yoghurt peanut oil ground cumin ground c...\n",
       "3666     lemon zest whipping cream yellow corn meal bak...\n",
       "27481    salad dressing chuck roast garlic ground black...\n",
       "36750    sesame seeds worcestershire sauce cucumber pep...\n",
       "31926    bay leaves cayenne pepper ground cloves vegeta...\n",
       "                               ...                        \n",
       "23536    shredded cheddar cheese ricotta cheese eggs Al...\n",
       "30857    cajun seasoning onions water hot Italian sausa...\n",
       "36586    eggplant large garlic cloves veal shanks large...\n",
       "17770    ground pepper cilantro scallions seedless cucu...\n",
       "36850    eggs self rising flour margarine light brown s...\n",
       "Name: ingredients, Length: 7955, dtype: object"
      ]
     },
     "execution_count": 26,
     "metadata": {},
     "output_type": "execute_result"
    }
   ],
   "source": [
    "X_test['ingredients']"
   ]
  },
  {
   "cell_type": "code",
   "execution_count": 23,
   "id": "2fe0ae3f",
   "metadata": {},
   "outputs": [],
   "source": [
    "# Applying BoW\n",
    "from sklearn.feature_extraction.text import CountVectorizer"
   ]
  },
  {
   "cell_type": "code",
   "execution_count": 24,
   "id": "de611346",
   "metadata": {},
   "outputs": [],
   "source": [
    "cv = CountVectorizer()\n",
    "X_train_bow = cv.fit_transform(X_train['ingredients']).toarray()\n",
    "X_test_bow = cv.transform(X_test['ingredients']).toarray()"
   ]
  },
  {
   "cell_type": "code",
   "execution_count": 25,
   "id": "14b1022c",
   "metadata": {},
   "outputs": [
    {
     "data": {
      "text/plain": [
       "0.24349465744814583"
      ]
     },
     "execution_count": 25,
     "metadata": {},
     "output_type": "execute_result"
    }
   ],
   "source": [
    "from sklearn.naive_bayes import GaussianNB\n",
    "gnb = GaussianNB()\n",
    "\n",
    "gnb.fit(X_train_bow,y_train)\n",
    "\n",
    "y_pred = gnb.predict(X_test_bow)\n",
    "\n",
    "from sklearn.metrics import accuracy_score\n",
    "accuracy_score(y_test,y_pred)"
   ]
  }
 ],
 "metadata": {
  "kernelspec": {
   "display_name": "Python 3 (ipykernel)",
   "language": "python",
   "name": "python3"
  },
  "language_info": {
   "codemirror_mode": {
    "name": "ipython",
    "version": 3
   },
   "file_extension": ".py",
   "mimetype": "text/x-python",
   "name": "python",
   "nbconvert_exporter": "python",
   "pygments_lexer": "ipython3",
   "version": "3.10.9"
  }
 },
 "nbformat": 4,
 "nbformat_minor": 5
}
